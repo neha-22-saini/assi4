{
 "cells": [
  {
   "cell_type": "code",
   "execution_count": 1,
   "id": "7dbc55f7-9e8f-4544-9d4f-07f914a9b2a4",
   "metadata": {},
   "outputs": [],
   "source": [
    "                # Assignment :4 "
   ]
  },
  {
   "cell_type": "markdown",
   "id": "a062dd5d-34b8-4dac-8872-a0dbee005c33",
   "metadata": {},
   "source": [
    "          Thoretical Part"
   ]
  },
  {
   "cell_type": "markdown",
   "id": "bec5d534-5653-45e4-9f4c-2cb7e950598c",
   "metadata": {},
   "source": [
    "Q.1)What is Object-Oriented Programming (OOP)?\n",
    "\n",
    "Ans.\n",
    "    Object-Oriented Programming (OOP) is a programming paradigm based on the concept of \"objects\", which can contain:\n",
    "\n",
    " Data in the form of fields (often called attributes or properties), and\n",
    "\n",
    " Code in the form of procedures (often called methods)."
   ]
  },
  {
   "cell_type": "markdown",
   "id": "f0af9255-7e49-467c-b8be-9c38708deaf8",
   "metadata": {},
   "source": [
    "Q.2)What is a class in OOP?\n",
    "Ans.\n",
    "    A class is a blueprint or template used to create objects.\n",
    "It defines the attributes (variables) and methods (functions) that the created objects will have.\n",
    "Exmp:\n",
    "Imagine a \"Car\" blueprint — it tells you that every car has:\n",
    "\n",
    "Attributes: color, brand, speed\n",
    "\n",
    "Methods: drive(), brake()\n",
    "\n",
    "    "
   ]
  },
  {
   "cell_type": "markdown",
   "id": "7cd11e11-aa24-48e8-9fb6-255a1694cdfc",
   "metadata": {},
   "source": [
    "Q.3)What is an object in OOP?\n",
    "Ans.\n",
    "    An object is an instance of a class.\n",
    "\n",
    "    It is a real-world entity. Obeject can be anything .\n",
    "    "
   ]
  },
  {
   "cell_type": "markdown",
   "id": "50c16a8b-1aa9-4331-ad4c-9154da0695c5",
   "metadata": {},
   "source": [
    "Q.4)What is the difference between abstraction and encapsulation?\n",
    "Ans.\n",
    "    Both abstraction and encapsulation are fundamental concepts in Object-Oriented Programming, but they focus on different aspects of data handling and design.\n",
    "Abstraction:- \n",
    "             Hiding implementation details and showing only essential features to the use\n",
    "             Focus on what an object does\n",
    "encapsulation:-\n",
    "            Wrapping data and methods into a single unit (class) and restricting access\n",
    "            Focus on how data is protected and managed\n",
    "    "
   ]
  },
  {
   "cell_type": "markdown",
   "id": "89353bb6-9eda-4ff6-99e5-1f887e032c0e",
   "metadata": {},
   "source": [
    "Q.5)What are dunder methods in Python?\n",
    "Ans.\n",
    "   Dunder methods (short for double underscore methods) are special, built-in methods in Python that start and end with double underscores — like __init__, __str__, __len__, etc.\n",
    "\n",
    "They are also called magic methods or special methods."
   ]
  },
  {
   "cell_type": "markdown",
   "id": "7802ffef-467e-40ec-9f47-156a33bdb0d4",
   "metadata": {},
   "source": [
    "Q.6)What is Inheritance in Object-Oriented Programming (OOP)?\n",
    "Ans.\n",
    "    Inheritance is an OOP concept where a child class (subclass) can inherit the attributes and methods of a parent class (superclass).\n"
   ]
  },
  {
   "cell_type": "markdown",
   "id": "8ddf9c64-6e39-4a55-9078-8f35f8c88cb1",
   "metadata": {},
   "source": [
    "Q..7)What is polymorphism in OOP\n",
    "  Ans.\n",
    "      Polymorphism means \"many forms\".\n",
    "It allows different classes to be treated as if they are the same type, through a common interface.\n",
    "\n",
    " Exmp:-\n",
    "    Real-Life Analogy:\n",
    "Imagine you have a function make_sound():\n",
    "A Dog says \"Bark\"\n",
    "A Cat says \"Meow\"\n",
    "Even though the behavior is different, you can call the same method on both."
   ]
  },
  {
   "cell_type": "markdown",
   "id": "4bfd7277-2b5c-430d-ba69-502e2a76bfe8",
   "metadata": {},
   "source": [
    "\n",
    "Q.8) How is encapsulation achieved in Python?\n",
    "Ans.\n",
    "    Encapsulation is the process of bundling data (attributes) and methods that operate on that data into a single unit (a class), and restricting direct access to some of the object’s components.\n",
    "    Encapsulation is achieved by three methods \n",
    "    *punblic ....self.name\n",
    "    *protected ....self._name\n",
    "    and *private.....self.__name\n"
   ]
  },
  {
   "cell_type": "markdown",
   "id": "a9bbbf56-aab1-4290-8f27-3c3d424afec6",
   "metadata": {},
   "source": [
    "Q.9)What is a constructor in Python?\n",
    " Ans.\n",
    "      A constructor in Python is a special method used to initialize objects when a class is instantiated.\n",
    "\n",
    "In Python, the constructor method is called:\n",
    " __init__()\n",
    " Purpose:\n",
    "Set up initial state (attributes) of the object\n",
    "\n",
    "Automatically runs when you create a new object"
   ]
  },
  {
   "cell_type": "markdown",
   "id": "0405365a-db91-411d-adfd-17e64c66d5dd",
   "metadata": {},
   "source": [
    "Q.10)What are class and static methods in Python?\n",
    "Ans.\n",
    "    Class Methods\n",
    "Belong to the class, not the instance.\n",
    "\n",
    "Use the @classmethod decorator.\n",
    "\n",
    "The first parameter is cls (refers to the class, not object).\n",
    "    Use when:\n",
    "You want to work with class variables\n",
    "\n",
    "You want to create factory methods (alternative constructors)\n",
    "    Static Methods\n",
    "Also belong to the class, not the instance.\n",
    "Use the @staticmethod decorator.\n",
    "Takes no self or cls parameter.\n",
    " Use when:\n",
    "The method doesn’t need to access instance or class data\n"
   ]
  },
  {
   "cell_type": "markdown",
   "id": "6b8d8500-0d45-4850-848b-7c1bb9350c57",
   "metadata": {},
   "source": [
    "Q.11) What is method overloading in Python?\n",
    "Ans.ethod overloading is a concept where multiple methods have the same name but different parameters (number or type).\n",
    "    Python does not support method overloading\n",
    "Simulating Method Overloading in Python\n",
    "You can simulate it using:\n",
    "Default arguments\n",
    "Variable arguments (*args, **kwargs)\n",
    "Type checking (optional)"
   ]
  },
  {
   "cell_type": "markdown",
   "id": "18e702a2-5f76-4b02-b4d2-b1180b1febf6",
   "metadata": {},
   "source": [
    "Q.12)What is method overriding in OOP?\n",
    "Ans. \n",
    "    Method overriding allows a child class (subclass) to provide a specific implementation of a method that is already defined in its parent class (superclass).\n",
    "    Key Points:\n",
    "Same method name, signature, and parameters as the parent.\n",
    "\n",
    "Happens in inheritance.\n",
    "\n",
    "Used to change or extend the behavior of the parent class\n",
    "    "
   ]
  },
  {
   "cell_type": "markdown",
   "id": "46a5ea56-97c1-4142-97b9-ead0bbadc0a5",
   "metadata": {},
   "source": [
    "Q.13)What is a property decorator in Python?\n",
    "Ans.\n",
    "    The @property decorator in Python is used to turn a method into a “read-only” attribute — so you can access it like a variable, even though it runs a method in the background.\n",
    "    Why use it?\n",
    "To encapsulate attribute access\n",
    "Add logic or validation while getting/setting values\n",
    "Avoid calling .get_value() — just use .value"
   ]
  },
  {
   "cell_type": "markdown",
   "id": "23564351-28e0-4680-ae8c-420d150807be",
   "metadata": {},
   "source": [
    "Q.14)Why is polymorphism important in OOP?\n",
    "Ans.\n",
    "    Polymorphism = “many forms”\n",
    "It allows objects of different classes to be treated as if they were of the same class, as long as they share a common interface (e.g., a method with the same name).\n",
    "\n"
   ]
  },
  {
   "cell_type": "markdown",
   "id": "c28f8a04-a9c7-4e5b-8197-d5964c6ff19f",
   "metadata": {},
   "source": [
    "Q.15)What is an abstract class in Python?\n",
    "Ans.\n",
    "    An abstract class in Python is a base class that cannot be instantiated directly and is meant to be inherited by other classes.\n",
    "\n",
    "It can define:\n",
    "\n",
    "Abstract methods (which must be implemented by subclasses)\n",
    "\n",
    "Regular methods (with actual code)\n",
    "\n",
    "Class-level contracts for consistent structure\n",
    "\n",
    "Purpose:\n",
    "To enforce a structure for subclasses\n",
    "\n",
    "To define a common interface\n",
    "\n",
    "To prevent creation of incomplete objects"
   ]
  },
  {
   "cell_type": "markdown",
   "id": "d2908943-9157-4990-bcf2-c02626f3ea26",
   "metadata": {},
   "source": [
    "Q.16)What are the advantages of OOP?\n",
    "Ans.\n",
    "    Object-Oriented Programming is a powerful paradigm that helps you structure your code more logically, modularly, and maintainably\n",
    " because oops supports:-\n",
    "     Modularity\n",
    "     Reusability (via Inheritance)\n",
    "     Encapsulation\n",
    "     Abstraction\n",
    "      Polymorphism"
   ]
  },
  {
   "cell_type": "markdown",
   "id": "f1ef62ca-2ae1-4fb8-81e7-bc580d02ad2e",
   "metadata": {},
   "source": [
    "Q.17)What is the difference between a class variable and an instance variable?\n",
    "Ans.\n",
    "   Both are variables defined inside a class, but they have different scopes and behaviors.\n",
    "   1. Class Variable\n",
    "Belongs to the class itself\n",
    "\n",
    "Shared by all instances\n",
    "\n",
    "Defined outside any method in the class\n",
    "  2. Instance Variable\n",
    "Belongs to a specific object\n",
    "\n",
    "Each object has its own copy\n",
    "\n",
    "Defined inside __init__ or any instance method using self "
   ]
  },
  {
   "cell_type": "markdown",
   "id": "1c46331f-1102-4e87-976f-15b8ce9bab39",
   "metadata": {},
   "source": [
    "Q.18)What is multiple inheritance in Python?\n",
    "Ans.\n",
    "    Multiple inheritance means a class can inherit from more than one parent class.\n",
    "\n",
    "In simpler terms:\n",
    " A child class can combine behaviors and attributes from multiple base classes.\n",
    "  Advantages:\n",
    "Combines features from multiple classes\n",
    "\n",
    "Increases code reusability\n",
    "\n",
    "Useful when your class needs to represent multiple behaviors"
   ]
  },
  {
   "cell_type": "markdown",
   "id": "6038bf7b-dc27-4021-80ef-7e715f764fec",
   "metadata": {},
   "source": [
    "Q.19)Explain the purpose of ‘’__str__’ and ‘__repr__’ ‘ methods in Python.\n",
    "Ans.\n",
    "    __str__() → Human-readable\n",
    "Called by print() or str(obj)\n",
    "\n",
    "Should return a nicely formatted string\n",
    "\n",
    "Focuses on readability\n",
    "\n",
    "   __repr__() → Developer/debugging\n",
    "Called by repr(obj) or when object is typed directly in interpreter\n",
    "\n",
    "Should return a string that looks like valid Python code (if possible)\n",
    "\n",
    "Focuses on unambiguous representation\n",
    "     If __str__() is missing → Python will use __repr__() as fallback.\n",
    "If both are missing → you’ll see something like <__main__"
   ]
  },
  {
   "cell_type": "markdown",
   "id": "87447ac4-4a1c-4010-b418-894022d8c0a3",
   "metadata": {},
   "source": [
    "Q.20)What is the significance of the ‘super()’ function in Python?\n",
    "Ans.\n",
    "    The super() function is used to call methods from a parent class. It’s most commonly used in inheritance to extend or reuse code from the base class without explicitly naming it.\n",
    "    Key Uses of super():\n",
    "Call the parent class’s constructor\n",
    "\n",
    "Invoke a method from the superclass\n",
    "\n",
    "Support multiple inheritance cleanly using MRO (Method Resolution Order)"
   ]
  },
  {
   "cell_type": "markdown",
   "id": "f84c7b7e-6a53-4d14-8b04-e3fd9777b2f2",
   "metadata": {},
   "source": [
    "Q.21)What is the significance of the __del__ method in Python?\n",
    "Ans.\n",
    "\n",
    "The __del__ method in Python is known as a destructor. It's a special method that is called automatically when an object is about to be destroyed — usually when its reference count drops to zero (i.e., there are no more references to the object).\n",
    "Significance and Use of __del__:\n",
    "Resource Cleanup:\n",
    "It can be used to free up resources like:\n",
    "\n",
    "Closing a file\n",
    "\n",
    "Closing a network connection\n",
    "\n",
    "Releasing memory\n",
    "\n",
    "Removing temporary files\n",
    "\n",
    "Tracking Object Destruction:\n",
    "Useful in debugging to see when objects are removed from memory.\n",
    "\n"
   ]
  },
  {
   "cell_type": "markdown",
   "id": "e5a3fd39-36a4-426b-8faa-7a5787478c45",
   "metadata": {},
   "source": [
    "Q.22) What is the difference between @staticmethod and @classmethod in Python?\n",
    "Ans.\n",
    "   Use @staticmethod when the method doesn't need access to class or instance.\n",
    "\n",
    "    Use @classmethod when the method needs access to the class (but not instance) — e.g., for alternate constructors or managing class-level state. \n",
    "\n"
   ]
  },
  {
   "cell_type": "markdown",
   "id": "f4bb76f5-6f42-42b3-9873-03b6673b29ab",
   "metadata": {},
   "source": [
    "Q.23) How does polymorphism work in Python with inheritance?\n",
    "Ans.\n",
    "   Polymorphism in Python with inheritance allows different classes to define methods with the same name, but with different behavior — and to use them interchangeably through a common interface.\n",
    "   Let’s say you have a base class and multiple subclasses, and each subclass overrides the same method. You can then treat them as instances of the base class and still call the correct method."
   ]
  },
  {
   "cell_type": "markdown",
   "id": "9c434384-daf2-491c-ba0f-89feda7c4f65",
   "metadata": {},
   "source": [
    "Q.24)What is method chaining in Python OOP?\n",
    "Ans.\n",
    "  Method chaining is a technique in Object-Oriented Programming where multiple methods are called sequentially on the same object, all in a single line.\n",
    "\n",
    "This is made possible by having each method return the object itself (self), so the next method can be called on the same instance. \n",
    "   "
   ]
  },
  {
   "cell_type": "markdown",
   "id": "119ada7b-dc1c-4432-a7dd-0098e6e21839",
   "metadata": {},
   "source": [
    "Q.25) What is the purpose of the __call__ method in Python?\n",
    "Ans.\n",
    "  The __call__() method in Python allows an instance of a class to be called like a function.\n",
    "  like:- If a class defines a __call__() method, you can “call” its objects using parentheses (), just like functions."
   ]
  },
  {
   "cell_type": "code",
   "execution_count": null,
   "id": "ea170242-531c-47d2-a3cc-71b4b9fb5281",
   "metadata": {},
   "outputs": [],
   "source": [
    "\n",
    "\n"
   ]
  },
  {
   "cell_type": "code",
   "execution_count": null,
   "id": "b9c88ed8-5b99-40ea-896d-4584c6ae93f6",
   "metadata": {},
   "outputs": [],
   "source": [
    "          #Practical part "
   ]
  },
  {
   "cell_type": "code",
   "execution_count": 1,
   "id": "4d335171-28a0-49c2-ab41-e19f1a653bf4",
   "metadata": {},
   "outputs": [
    {
     "name": "stdout",
     "output_type": "stream",
     "text": [
      "Animal makes a sound\n",
      "Bark!\n"
     ]
    }
   ],
   "source": [
    " # Q.1) Create a parent class Animal with a method speak() that prints a generic message. Create a child class Dog\n",
    "#that overrides the speak() method to print \"Bark!\".\n",
    "\n",
    "# Ans . \n",
    "\n",
    "class Animal:      #parent class\n",
    "    def speak(self):\n",
    "        print(\"Animal makes a sound\")\n",
    " \n",
    "class Dog(Animal):   #drived class\n",
    "    def speak(self):\n",
    "        print(\"Bark!\")\n",
    "\n",
    "animal = Animal()\n",
    "dog = Dog()\n",
    "\n",
    "animal.speak()  # Output: Animal makes a sound\n",
    "dog.speak()     # Output: Bark!\n"
   ]
  },
  {
   "cell_type": "code",
   "execution_count": 2,
   "id": "524b2dd0-b37c-4c63-8559-b645a7d73c70",
   "metadata": {},
   "outputs": [
    {
     "name": "stdout",
     "output_type": "stream",
     "text": [
      "Area of circle: 78.54\n",
      "Area of rectangle: 24\n"
     ]
    }
   ],
   "source": [
    " #Q.2) Write a program to create an abstract class Shape with a method area(). Derive classes Circle and Rectangle\n",
    " #from it and implement the area() method in both.\n",
    "#Ans.\n",
    "from abc import ABC, abstractmethod\n",
    "import math\n",
    "\n",
    "# Abstract Base Class\n",
    "class Shape(ABC):\n",
    "    @abstractmethod\n",
    "    def area(self):\n",
    "        pass\n",
    "\n",
    "# Subclass: Circle\n",
    "class Circle(Shape):\n",
    "    def __init__(self, radius):\n",
    "        self.radius = radius\n",
    "\n",
    "    def area(self):\n",
    "        return math.pi * self.radius ** 2\n",
    "\n",
    "class Rectangle(Shape):\n",
    "    def __init__(self, width, height):\n",
    "        self.width = width\n",
    "        self.height = height\n",
    "\n",
    "    def area(self):\n",
    "        return self.width * self.height\n",
    "\n",
    "circle = Circle(5)\n",
    "rectangle = Rectangle(4, 6)\n",
    "\n",
    "print(f\"Area of circle: {circle.area():.2f}\")     # Output: Area of circle: 78.54\n",
    "print(f\"Area of rectangle: {rectangle.area()}\")   # Output: Area of rectangle: 24\n"
   ]
  },
  {
   "cell_type": "code",
   "execution_count": 3,
   "id": "39aa7a36-ea97-4c4f-b0f0-799d1c96f20d",
   "metadata": {},
   "outputs": [
    {
     "name": "stdout",
     "output_type": "stream",
     "text": [
      "Vehicle Type: Electric\n",
      "Brand: Tesla\n",
      "Battery Capacity: 75 kWh\n"
     ]
    }
   ],
   "source": [
    "#Q.3)  Implement a multi-level inheritance scenario where a class Vehicle has an attribute type. Derive a class Car\n",
    "#and further derive a class ElectricCar that adds a battery attribute.\n",
    "#Ans.\n",
    "   # Base class\n",
    "class Vehicle:\n",
    "    def __init__(self, vehicle_type):\n",
    "        self.vehicle_type = vehicle_type\n",
    "\n",
    "    def display_type(self):\n",
    "        print(f\"Vehicle Type: {self.vehicle_type}\")\n",
    "\n",
    "# First level derived class\n",
    "class Car(Vehicle):\n",
    "    def __init__(self, vehicle_type, brand):\n",
    "        super().__init__(vehicle_type)\n",
    "        self.brand = brand\n",
    "\n",
    "    def display_brand(self):\n",
    "        print(f\"Brand: {self.brand}\")\n",
    "\n",
    "# Second level derived class\n",
    "class ElectricCar(Car):\n",
    "    def __init__(self, vehicle_type, brand, battery_capacity):\n",
    "        super().__init__(vehicle_type, brand)\n",
    "        self.battery_capacity = battery_capacity\n",
    "\n",
    "    def display_battery(self):\n",
    "        print(f\"Battery Capacity: {self.battery_capacity} kWh\")\n",
    "\n",
    "# Example usage\n",
    "e_car = ElectricCar(\"Electric\", \"Tesla\", 75)\n",
    "\n",
    "e_car.display_type()       # From Vehicle\n",
    "e_car.display_brand()      # From Car\n",
    "e_car.display_battery()    # From ElectricCar\n"
   ]
  },
  {
   "cell_type": "code",
   "execution_count": 5,
   "id": "c3109af5-1005-45cf-bb5e-13e2dc52b7f8",
   "metadata": {},
   "outputs": [
    {
     "name": "stdout",
     "output_type": "stream",
     "text": [
      "Sparrow flies high in the sky!\n",
      "Penguins cannot fly, they swim!\n"
     ]
    }
   ],
   "source": [
    "#Q.4)Demonstrate polymorphism by creating a base class Bird with a method fly(). Create two derived classes\n",
    "#Sparrow and Penguin that override the fly() method.\n",
    "#Ans.\n",
    "# Base class\n",
    "class Bird:\n",
    "    def fly(self):\n",
    "        print(\"Bird is flying\")\n",
    "\n",
    "# Derived class: Sparrow\n",
    "class Sparrow(Bird):\n",
    "    def fly(self):\n",
    "        print(\"Sparrow flies high in the sky!\")\n",
    "\n",
    "# Derived class: Penguin\n",
    "class Penguin(Bird):\n",
    "    def fly(self):\n",
    "        print(\"Penguins cannot fly, they swim!\")\n",
    "\n",
    "# Polymorphic behavior\n",
    "def bird_flight(bird):\n",
    "    bird.fly()\n",
    "\n",
    "# Create instances\n",
    "sparrow = Sparrow()\n",
    "penguin = Penguin()\n",
    "bird_flight(sparrow)   \n",
    "bird_flight(penguin)\n",
    "\n"
   ]
  },
  {
   "cell_type": "code",
   "execution_count": 7,
   "id": "2fac9756-59c5-4963-b7cf-64eba6cf1262",
   "metadata": {},
   "outputs": [],
   "source": [
    "#Q.5)Write a program to demonstrate encapsulation by creating a class BankAccount with private attributes\n",
    "#balance and methods to deposit, withdraw, and check balance\n",
    "#Ans.\n",
    "class BankAccount:\n",
    "    def __init__(self, initial_balance=0):\n",
    "        self.__balance = initial_balance  # private attribute\n",
    "\n",
    "    # Public method to deposit money\n",
    "    def deposit(self, amount):\n",
    "        if amount > 0:\n",
    "            self.__balance += amount\n",
    "            print(f\"Deposited: ₹{amount}\")\n",
    "        else:\n",
    "            print(\"Invalid deposit amount!\")\n",
    "\n",
    "    # Public method to withdraw money\n",
    "    def withdraw(self, amount):\n",
    "        if 0 < amount <= self.__balance:\n",
    "            self.__balance -= amount\n",
    "            print(f\"Withdrawn: ₹{amount}\")\n",
    "        else:\n",
    "            print(\"Insufficient balance or invalid amount!\")\n",
    "\n",
    "    # Public method to check balance\n",
    "    def check_balance(self):\n",
    "        print(f\"Current Balance: ₹{self.__balance}\")"
   ]
  },
  {
   "cell_type": "code",
   "execution_count": 8,
   "id": "d186ec76-b614-4cc4-83bc-7563ad48e76b",
   "metadata": {},
   "outputs": [
    {
     "name": "stdout",
     "output_type": "stream",
     "text": [
      "Current Balance: ₹1000\n",
      "Deposited: ₹500\n",
      "Withdrawn: ₹300\n",
      "Current Balance: ₹1200\n"
     ]
    }
   ],
   "source": [
    "\n",
    "account = BankAccount(1000)\n",
    "\n",
    "account.check_balance()     # Output: ₹1000\n",
    "account.deposit(500)        # Output: Deposited ₹500\n",
    "account.withdraw(300)       # Output: Withdrawn ₹300\n",
    "account.check_balance()     # Output: ₹1200\n",
    "\n"
   ]
  },
  {
   "cell_type": "code",
   "execution_count": 9,
   "id": "ad8a4aa7-47ce-46c7-8988-5dcddd742aaf",
   "metadata": {},
   "outputs": [
    {
     "name": "stdout",
     "output_type": "stream",
     "text": [
      "Strumming the guitar \n",
      "Playing the piano \n"
     ]
    }
   ],
   "source": [
    "#Q.6. Demonstrate runtime polymorphism using a method play() in a base class Instrument. Derive classes Guitar\n",
    "#and Piano that implement their own version of play().\n",
    "#Ans.\n",
    "# Base class\n",
    "class Instrument:\n",
    "    def play(self):\n",
    "        print(\"Playing an instrument\")\n",
    "\n",
    "# Derived class: Guitar\n",
    "class Guitar(Instrument):\n",
    "    def play(self):\n",
    "        print(\"Strumming the guitar \")\n",
    "\n",
    "# Derived class: Piano\n",
    "class Piano(Instrument):\n",
    "    def play(self):\n",
    "        print(\"Playing the piano \")\n",
    "\n",
    "# Polymorphic function\n",
    "def start_playing(instrument):\n",
    "    instrument.play()\n",
    "\n",
    "# Create instances\n",
    "guitar = Guitar()\n",
    "piano = Piano()\n",
    "\n",
    "# Demonstrate runtime polymorphism\n",
    "start_playing(guitar) \n",
    "start_playing(piano)   \n",
    "   "
   ]
  },
  {
   "cell_type": "code",
   "execution_count": 11,
   "id": "d451bfe4-283c-479b-9811-5422fb0bc749",
   "metadata": {},
   "outputs": [],
   "source": [
    "#Q.7)7. Create a class MathOperations with a class method add_numbers() to add two numbers and a static\n",
    "#method subtract_numbers() to subtract two numbers.\n",
    "#Ans.\n",
    "class MathOperations:\n",
    "    # Class method\n",
    "    @classmethod\n",
    "    def add_numbers(cls, a, b):\n",
    "        return a + b\n",
    "\n",
    "    # Static method\n",
    "    @staticmethod\n",
    "    def subtract_numbers(a, b):\n",
    "        return a - b\n"
   ]
  },
  {
   "cell_type": "code",
   "execution_count": 12,
   "id": "931c0ceb-ae33-4f4f-b0e9-902db2dadb74",
   "metadata": {},
   "outputs": [
    {
     "name": "stdout",
     "output_type": "stream",
     "text": [
      "Sum: 15\n",
      "Difference: 5\n"
     ]
    }
   ],
   "source": [
    "\n",
    "sum_result = MathOperations.add_numbers(10, 5)\n",
    "print(f\"Sum: {sum_result}\")  # Output: Sum: 15\n",
    "\n",
    "difference_result = MathOperations.subtract_numbers(10, 5)\n",
    "print(f\"Difference: {difference_result}\")  # Output: Difference: 5\n"
   ]
  },
  {
   "cell_type": "code",
   "execution_count": 13,
   "id": "ac260f08-264e-4fed-a7bc-1cd23638bd25",
   "metadata": {},
   "outputs": [],
   "source": [
    "#Q.8)Implement a class Person with a class method to count the total number of persons created.\n",
    "#Ans.\n",
    "class Person:\n",
    "    # Class variable to keep track of person count\n",
    "    count = 0\n",
    "\n",
    "    def __init__(self, name):\n",
    "        self.name = name\n",
    "        # Increment the counter every time a new person is created\n",
    "        Person.count += 1\n",
    "\n",
    "    # Class method to get total count\n",
    "    @classmethod\n",
    "    def total_persons(cls):\n",
    "        return cls.count\n"
   ]
  },
  {
   "cell_type": "code",
   "execution_count": 14,
   "id": "c04fc959-3cae-452c-92ba-a3d78de627ad",
   "metadata": {},
   "outputs": [
    {
     "name": "stdout",
     "output_type": "stream",
     "text": [
      "Total persons created: 3\n"
     ]
    }
   ],
   "source": [
    "# Create some Person objects\n",
    "p1 = Person(\"Alice\")\n",
    "p2 = Person(\"Bob\")\n",
    "p3 = Person(\"Charlie\")\n",
    "\n",
    "# Get total number of persons created\n",
    "print(f\"Total persons created: {Person.total_persons()}\")  # Output: 3\n"
   ]
  },
  {
   "cell_type": "code",
   "execution_count": 15,
   "id": "1ba27a07-4ab6-4def-a05f-86d0a5b769b3",
   "metadata": {},
   "outputs": [],
   "source": [
    "#Q.9)9. Write a class Fraction with attributes numerator and denominator. Override the str method to display the\n",
    "#fraction as \"numerator/denominator\".\n",
    "#Ans.\n",
    "class Fraction:\n",
    "    def __init__(self, numerator, denominator):\n",
    "        self.numerator = numerator\n",
    "        self.denominator = denominator\n",
    "\n",
    "    def __str__(self):\n",
    "        return f\"{self.numerator}/{self.denominator}\"\n"
   ]
  },
  {
   "cell_type": "code",
   "execution_count": 16,
   "id": "af38029a-a0f5-455d-a0fd-ae9fccbc8bac",
   "metadata": {},
   "outputs": [
    {
     "name": "stdout",
     "output_type": "stream",
     "text": [
      "2/3\n",
      "5/7\n"
     ]
    }
   ],
   "source": [
    "# Create fraction objects\n",
    "f1 = Fraction(2, 3)\n",
    "f2 = Fraction(5, 7)\n",
    "\n",
    "# Print the fraction objects\n",
    "print(f1)  # Output: 2/3\n",
    "print(f2)  # Output: 5/7\n"
   ]
  },
  {
   "cell_type": "code",
   "execution_count": 17,
   "id": "959e1654-e335-409a-b7b9-8deae2d90061",
   "metadata": {},
   "outputs": [],
   "source": [
    "#Q.10. Demonstrate operator overloading by creating a class Vector and overriding the add method to add two\n",
    "#vectors.\n",
    "#Ans\n",
    "class Vector:\n",
    "    def __init__(self, x, y):\n",
    "        self.x = x\n",
    "        self.y = y\n",
    "\n",
    "    # Overload the + operator\n",
    "    def __add__(self, other):\n",
    "        return Vector(self.x + other.x, self.y + other.y)\n",
    "\n",
    "    # For readable output\n",
    "    def __str__(self):\n",
    "        return f\"({self.x}, {self.y})\"\n"
   ]
  },
  {
   "cell_type": "code",
   "execution_count": 18,
   "id": "223679ec-696e-4d10-840c-c0acf3f110ad",
   "metadata": {},
   "outputs": [
    {
     "name": "stdout",
     "output_type": "stream",
     "text": [
      "v1: (2, 3)\n",
      "v2: (4, 5)\n",
      "v1 + v2 = (6, 8)\n"
     ]
    }
   ],
   "source": [
    "v1 = Vector(2, 3)\n",
    "v2 = Vector(4, 5)\n",
    "\n",
    "v3 = v1 + v2  # Calls v1.__add__(v2)\n",
    "\n",
    "print(f\"v1: {v1}\")  # Output: (2, 3)\n",
    "print(f\"v2: {v2}\")  # Output: (4, 5)\n",
    "print(f\"v1 + v2 = {v3}\")  # Output: (6, 8)\n"
   ]
  },
  {
   "cell_type": "code",
   "execution_count": 19,
   "id": "f4bbb07c-8c71-4047-ac38-563679e63551",
   "metadata": {},
   "outputs": [],
   "source": [
    "#Q.11. Create a class Person with attributes name and age. Add a method greet() that prints \"Hello, my name is\n",
    "#{name} and I am {age} years old.\"\n",
    "#Ans.\n",
    "class Person:\n",
    "    def __init__(self, name, age):\n",
    "        self.name = name\n",
    "        self.age = age\n",
    "\n",
    "    def greet(self):\n",
    "        print(f\"Hello, my name is {self.name} and I am {self.age} years old.\")\n"
   ]
  },
  {
   "cell_type": "code",
   "execution_count": 20,
   "id": "af4d8a42-083e-4741-8c44-70931dccb4a5",
   "metadata": {},
   "outputs": [
    {
     "name": "stdout",
     "output_type": "stream",
     "text": [
      "Hello, my name is Neha and I am 21 years old.\n"
     ]
    }
   ],
   "source": [
    "# Create a Person object\n",
    "p1 = Person(\"Neha\", 21)\n",
    "\n",
    "# Call the greet method\n",
    "p1.greet()\n"
   ]
  },
  {
   "cell_type": "code",
   "execution_count": 21,
   "id": "d10a35b3-2160-4f8b-9abc-9dc4f0a4a518",
   "metadata": {},
   "outputs": [],
   "source": [
    "#Q.12. Implement a class Student with attributes name and grades. Create a method average_grade() to compute\n",
    "#the average of the grades.\n",
    "#Ans.\n",
    "class Student:\n",
    "    def __init__(self, name, grades):\n",
    "        self.name = name\n",
    "        self.grades = grades  # List of grades\n",
    "\n",
    "    def average_grade(self):\n",
    "        if len(self.grades) == 0:\n",
    "            return 0\n",
    "        return sum(self.grades) / len(self.grades)\n"
   ]
  },
  {
   "cell_type": "code",
   "execution_count": 22,
   "id": "8c40cf59-d583-439f-82b8-1bc6ccc9bf5a",
   "metadata": {},
   "outputs": [
    {
     "name": "stdout",
     "output_type": "stream",
     "text": [
      "Neha's average grade is: 86.25\n"
     ]
    }
   ],
   "source": [
    "# Create a student object\n",
    "s1 = Student(\"Neha\", [85, 90, 78, 92])\n",
    "\n",
    "# Print average grade\n",
    "print(f\"{s1.name}'s average grade is: {s1.average_grade():.2f}\")\n"
   ]
  },
  {
   "cell_type": "code",
   "execution_count": 24,
   "id": "786144cf-d562-423a-ade5-0d6326c732b0",
   "metadata": {},
   "outputs": [],
   "source": [
    "#Q.13. Create a class Rectangle with methods set_dimensions() to set the dimensions and area() to calculate the\n",
    "#area.\n",
    "#Ans.\n",
    "class Rectangle:\n",
    "    def __init__(self):\n",
    "        self.length = 0\n",
    "        self.width = 0\n",
    "\n",
    "    def set_dimensions(self, length, width):\n",
    "        self.length = length\n",
    "        self.width = width\n",
    "\n",
    "    def area(self):\n",
    "        return self.length * self.width\n"
   ]
  },
  {
   "cell_type": "code",
   "execution_count": 25,
   "id": "25a7635e-1303-442f-ae7e-4b0fb65f6873",
   "metadata": {},
   "outputs": [
    {
     "name": "stdout",
     "output_type": "stream",
     "text": [
      "Area of rectangle: 15\n"
     ]
    }
   ],
   "source": [
    "# Create a Rectangle object\n",
    "rect = Rectangle()\n",
    "\n",
    "# Set dimensions\n",
    "rect.set_dimensions(5, 3)\n",
    "\n",
    "# Calculate and print area\n",
    "print(f\"Area of rectangle: {rect.area()}\")  \n"
   ]
  },
  {
   "cell_type": "code",
   "execution_count": 27,
   "id": "2b719c30-ec03-424a-a361-6de5710e5aa5",
   "metadata": {},
   "outputs": [],
   "source": [
    "#Q.14. Create a class Employee with a method calculate_salary() that computes the salary based on hours worked\n",
    "#and hourly rate. Create a derived class Manager that adds a bonus to the salary.\n",
    "#Ans.\n",
    "# Base class\n",
    "class Employee:\n",
    "    def __init__(self, name, hours_worked, hourly_rate):\n",
    "        self.name = name\n",
    "        self.hours_worked = hours_worked\n",
    "        self.hourly_rate = hourly_rate\n",
    "\n",
    "    def calculate_salary(self):\n",
    "        return self.hours_worked * self.hourly_rate\n",
    "\n",
    "# Derived class\n",
    "class Manager(Employee):\n",
    "    def __init__(self, name, hours_worked, hourly_rate, bonus):\n",
    "        super().__init__(name, hours_worked, hourly_rate)\n",
    "        self.bonus = bonus\n",
    "\n",
    "    def calculate_salary(self):\n",
    "        base_salary = super().calculate_salary()\n",
    "        return base_salary + self.bonus\n"
   ]
  },
  {
   "cell_type": "code",
   "execution_count": 28,
   "id": "d4732b15-a006-4376-872a-c0de8def585a",
   "metadata": {},
   "outputs": [
    {
     "name": "stdout",
     "output_type": "stream",
     "text": [
      "Alice's Salary: ₹8000\n",
      "Bob's Salary: ₹15000\n"
     ]
    }
   ],
   "source": [
    "# Create Employee object\n",
    "emp = Employee(\"Alice\", 40, 200)\n",
    "print(f\"{emp.name}'s Salary: ₹{emp.calculate_salary()}\")  # Output: ₹8000\n",
    "\n",
    "# Create Manager object\n",
    "mgr = Manager(\"Bob\", 40, 250, 5000)\n",
    "print(f\"{mgr.name}'s Salary: ₹{mgr.calculate_salary()}\")  # Output: ₹15000\n"
   ]
  },
  {
   "cell_type": "code",
   "execution_count": 29,
   "id": "1b445a07-a8aa-40c2-8a5c-0e20cfddd64a",
   "metadata": {},
   "outputs": [],
   "source": [
    "#Q.15. Create a class Product with attributes name, price, and quantity. Implement a method total_price() that\n",
    "#calculates the total price of the product.\n",
    "#Ans.\n",
    "class Product:\n",
    "    def __init__(self, name, price, quantity):\n",
    "        self.name = name\n",
    "        self.price = price        # Price per unit\n",
    "        self.quantity = quantity  # Number of units\n",
    "\n",
    "    def total_price(self):\n",
    "        return self.price * self.quantity\n"
   ]
  },
  {
   "cell_type": "code",
   "execution_count": 30,
   "id": "08f60fc4-984c-4946-9241-73508ab4da49",
   "metadata": {},
   "outputs": [
    {
     "name": "stdout",
     "output_type": "stream",
     "text": [
      "Total price of Smartphone: ₹45000\n",
      "Total price of Headphones: ₹10000\n"
     ]
    }
   ],
   "source": [
    "# Create product instances\n",
    "p1 = Product(\"Smartphone\", 15000, 3)\n",
    "p2 = Product(\"Headphones\", 2000, 5)\n",
    "\n",
    "# Print total prices\n",
    "print(f\"Total price of {p1.name}: ₹{p1.total_price()}\")  # Output: ₹45000\n",
    "print(f\"Total price of {p2.name}: ₹{p2.total_price()}\")  # Output: ₹10000\n"
   ]
  },
  {
   "cell_type": "code",
   "execution_count": 31,
   "id": "1effd42d-fed8-4619-a3f6-8b95678aa804",
   "metadata": {},
   "outputs": [],
   "source": [
    "#Q.16. Create a class Animal with an abstract method sound(). Create two derived classes Cow and Sheep that\n",
    "#implement the sound() method.\n",
    "#Ans.\n",
    "from abc import ABC, abstractmethod\n",
    "\n",
    "# Abstract base class\n",
    "class Animal(ABC):\n",
    "    @abstractmethod\n",
    "    def sound(self):\n",
    "        pass\n",
    "\n",
    "# Derived class: Cow\n",
    "class Cow(Animal):\n",
    "    def sound(self):\n",
    "        return \"Moo\"\n",
    "\n",
    "# Derived class: Sheep\n",
    "class Sheep(Animal):\n",
    "    def sound(self):\n",
    "        return \"Baa\"\n"
   ]
  },
  {
   "cell_type": "code",
   "execution_count": 32,
   "id": "b6859189-ddc7-41e5-b451-e9033ffd4ea1",
   "metadata": {},
   "outputs": [
    {
     "name": "stdout",
     "output_type": "stream",
     "text": [
      "Cow says: Moo\n",
      "Sheep says: Baa\n"
     ]
    }
   ],
   "source": [
    "# Create instances\n",
    "cow = Cow()\n",
    "sheep = Sheep()\n",
    "\n",
    "# Call sound method\n",
    "print(f\"Cow says: {cow.sound()}\")    # Output: Moo\n",
    "print(f\"Sheep says: {sheep.sound()}\")  # Output: Baa\n"
   ]
  },
  {
   "cell_type": "code",
   "execution_count": 33,
   "id": "9db58731-4d71-4908-bda9-3d62262462cb",
   "metadata": {},
   "outputs": [],
   "source": [
    "#Q.17. Create a class Book with attributes title, author, and year_published. Add a method get_book_info() that\n",
    "#returns a formatted string with the book's details.\n",
    "#Ans.\n",
    "class Book:\n",
    "    def __init__(self, title, author, year_published):\n",
    "        self.title = title\n",
    "        self.author = author\n",
    "        self.year_published = year_published\n",
    "\n",
    "    def get_book_info(self):\n",
    "        return f\"'{self.title}' by {self.author} (Published: {self.year_published})\"\n"
   ]
  },
  {
   "cell_type": "code",
   "execution_count": 34,
   "id": "7c81036e-f8ee-47c6-9f19-12a8b8c405bf",
   "metadata": {},
   "outputs": [
    {
     "name": "stdout",
     "output_type": "stream",
     "text": [
      "'To Kill a Mockingbird' by Harper Lee (Published: 1960)\n",
      "'1984' by George Orwell (Published: 1949)\n"
     ]
    }
   ],
   "source": [
    "# Create a book instance\n",
    "book1 = Book(\"To Kill a Mockingbird\", \"Harper Lee\", 1960)\n",
    "book2 = Book(\"1984\", \"George Orwell\", 1949)\n",
    "\n",
    "# Display book info\n",
    "print(book1.get_book_info())\n",
    "print(book2.get_book_info())\n"
   ]
  },
  {
   "cell_type": "code",
   "execution_count": 35,
   "id": "68e1504c-1f4a-4faf-bde4-9a41e222c7b8",
   "metadata": {},
   "outputs": [],
   "source": [
    "#Q.18. Create a class House with attributes address and price. Create a derived class Mansion that adds an\n",
    "#attribute number_of_rooms\n",
    "#Ans.\n",
    "# Base class\n",
    "class House:\n",
    "    def __init__(self, address, price):\n",
    "        self.address = address\n",
    "        self.price = price\n",
    "\n",
    "# Derived class\n",
    "class Mansion(House):\n",
    "    def __init__(self, address, price, number_of_rooms):\n",
    "        super().__init__(address, price)\n",
    "        self.number_of_rooms = number_of_rooms\n"
   ]
  },
  {
   "cell_type": "code",
   "execution_count": 36,
   "id": "3f37c305-28cc-4412-861b-68c51f520e89",
   "metadata": {},
   "outputs": [
    {
     "name": "stdout",
     "output_type": "stream",
     "text": [
      "Address: 123 Beverly Hills, CA\n",
      "Price: ₹50000000\n",
      "Number of Rooms: 12\n"
     ]
    }
   ],
   "source": [
    "# Create a Mansion object\n",
    "my_mansion = Mansion(\"123 Beverly Hills, CA\", 50000000, 12)\n",
    "\n",
    "# Print mansion details\n",
    "print(f\"Address: {my_mansion.address}\")\n",
    "print(f\"Price: ₹{my_mansion.price}\")\n",
    "print(f\"Number of Rooms: {my_mansion.number_of_rooms}\")\n"
   ]
  },
  {
   "cell_type": "code",
   "execution_count": null,
   "id": "4869a770-06a9-4a9b-8ef5-63cf14e12db6",
   "metadata": {},
   "outputs": [],
   "source": []
  }
 ],
 "metadata": {
  "kernelspec": {
   "display_name": "Python 3 (ipykernel)",
   "language": "python",
   "name": "python3"
  },
  "language_info": {
   "codemirror_mode": {
    "name": "ipython",
    "version": 3
   },
   "file_extension": ".py",
   "mimetype": "text/x-python",
   "name": "python",
   "nbconvert_exporter": "python",
   "pygments_lexer": "ipython3",
   "version": "3.13.4"
  }
 },
 "nbformat": 4,
 "nbformat_minor": 5
}
